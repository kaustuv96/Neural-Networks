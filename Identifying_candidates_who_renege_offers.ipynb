{
 "cells": [
  {
   "cell_type": "code",
   "execution_count": 1,
   "id": "eb224e44-d0a0-47c9-a377-117392b968b0",
   "metadata": {},
   "outputs": [],
   "source": [
    "import pandas as pd\n",
    "raw_df=pd.read_excel(r\"D:\\Business Analytics\\Important files\\Neural networks\\renege.xlsx\")"
   ]
  },
  {
   "cell_type": "code",
   "execution_count": 2,
   "id": "8a976755-a56f-4366-9aee-3bf8bbb2b7b3",
   "metadata": {},
   "outputs": [
    {
     "name": "stdout",
     "output_type": "stream",
     "text": [
      "<class 'pandas.core.frame.DataFrame'>\n",
      "RangeIndex: 7569 entries, 0 to 7568\n",
      "Data columns (total 9 columns):\n",
      " #   Column    Non-Null Count  Dtype \n",
      "---  ------    --------------  ----- \n",
      " 0   CID       7569 non-null   object\n",
      " 1   workexp   7569 non-null   int64 \n",
      " 2   age       7569 non-null   int64 \n",
      " 3   gender    7569 non-null   object\n",
      " 4   Source    7569 non-null   object\n",
      " 5   Educ      7569 non-null   object\n",
      " 6   previous  7569 non-null   object\n",
      " 7   location  7569 non-null   object\n",
      " 8   Joined    7569 non-null   int64 \n",
      "dtypes: int64(3), object(6)\n",
      "memory usage: 532.3+ KB\n"
     ]
    }
   ],
   "source": [
    "raw_df.info()"
   ]
  },
  {
   "cell_type": "code",
   "execution_count": 3,
   "id": "e50595ee-39f6-4ac7-a8fb-a3b4ebf5ad22",
   "metadata": {},
   "outputs": [
    {
     "data": {
      "text/html": [
       "<div>\n",
       "<style scoped>\n",
       "    .dataframe tbody tr th:only-of-type {\n",
       "        vertical-align: middle;\n",
       "    }\n",
       "\n",
       "    .dataframe tbody tr th {\n",
       "        vertical-align: top;\n",
       "    }\n",
       "\n",
       "    .dataframe thead th {\n",
       "        text-align: right;\n",
       "    }\n",
       "</style>\n",
       "<table border=\"1\" class=\"dataframe\">\n",
       "  <thead>\n",
       "    <tr style=\"text-align: right;\">\n",
       "      <th></th>\n",
       "      <th>CID</th>\n",
       "      <th>workexp</th>\n",
       "      <th>age</th>\n",
       "      <th>gender</th>\n",
       "      <th>Source</th>\n",
       "      <th>Educ</th>\n",
       "      <th>previous</th>\n",
       "      <th>location</th>\n",
       "      <th>Joined</th>\n",
       "    </tr>\n",
       "  </thead>\n",
       "  <tbody>\n",
       "    <tr>\n",
       "      <th>0</th>\n",
       "      <td>C2015UUGM44</td>\n",
       "      <td>3</td>\n",
       "      <td>32</td>\n",
       "      <td>F</td>\n",
       "      <td>3-SocialMedia</td>\n",
       "      <td>e2</td>\n",
       "      <td>Yes</td>\n",
       "      <td>L4</td>\n",
       "      <td>0</td>\n",
       "    </tr>\n",
       "    <tr>\n",
       "      <th>1</th>\n",
       "      <td>C20152LRE59</td>\n",
       "      <td>3</td>\n",
       "      <td>37</td>\n",
       "      <td>M</td>\n",
       "      <td>1-Consultancy</td>\n",
       "      <td>e1</td>\n",
       "      <td>Yes</td>\n",
       "      <td>L5</td>\n",
       "      <td>1</td>\n",
       "    </tr>\n",
       "    <tr>\n",
       "      <th>2</th>\n",
       "      <td>C20156UMBMO</td>\n",
       "      <td>4</td>\n",
       "      <td>36</td>\n",
       "      <td>F</td>\n",
       "      <td>3-SocialMedia</td>\n",
       "      <td>e2</td>\n",
       "      <td>Yes</td>\n",
       "      <td>L1</td>\n",
       "      <td>0</td>\n",
       "    </tr>\n",
       "    <tr>\n",
       "      <th>3</th>\n",
       "      <td>C2015LZSL81</td>\n",
       "      <td>3</td>\n",
       "      <td>44</td>\n",
       "      <td>M</td>\n",
       "      <td>1-Consultancy</td>\n",
       "      <td>e1</td>\n",
       "      <td>Yes</td>\n",
       "      <td>L3</td>\n",
       "      <td>1</td>\n",
       "    </tr>\n",
       "    <tr>\n",
       "      <th>4</th>\n",
       "      <td>C2015JFDHT1</td>\n",
       "      <td>4</td>\n",
       "      <td>43</td>\n",
       "      <td>M</td>\n",
       "      <td>2-Referral</td>\n",
       "      <td>e1</td>\n",
       "      <td>Yes</td>\n",
       "      <td>L1</td>\n",
       "      <td>1</td>\n",
       "    </tr>\n",
       "    <tr>\n",
       "      <th>...</th>\n",
       "      <td>...</td>\n",
       "      <td>...</td>\n",
       "      <td>...</td>\n",
       "      <td>...</td>\n",
       "      <td>...</td>\n",
       "      <td>...</td>\n",
       "      <td>...</td>\n",
       "      <td>...</td>\n",
       "      <td>...</td>\n",
       "    </tr>\n",
       "    <tr>\n",
       "      <th>7564</th>\n",
       "      <td>C2015XGXX2J</td>\n",
       "      <td>4</td>\n",
       "      <td>44</td>\n",
       "      <td>M</td>\n",
       "      <td>2-Referral</td>\n",
       "      <td>e1</td>\n",
       "      <td>Yes</td>\n",
       "      <td>L1</td>\n",
       "      <td>1</td>\n",
       "    </tr>\n",
       "    <tr>\n",
       "      <th>7565</th>\n",
       "      <td>C2015VA2O57</td>\n",
       "      <td>5</td>\n",
       "      <td>37</td>\n",
       "      <td>M</td>\n",
       "      <td>2-Referral</td>\n",
       "      <td>e2</td>\n",
       "      <td>No</td>\n",
       "      <td>L4</td>\n",
       "      <td>0</td>\n",
       "    </tr>\n",
       "    <tr>\n",
       "      <th>7566</th>\n",
       "      <td>C2015USNSNG</td>\n",
       "      <td>4</td>\n",
       "      <td>36</td>\n",
       "      <td>F</td>\n",
       "      <td>3-SocialMedia</td>\n",
       "      <td>e2</td>\n",
       "      <td>Yes</td>\n",
       "      <td>L7</td>\n",
       "      <td>1</td>\n",
       "    </tr>\n",
       "    <tr>\n",
       "      <th>7567</th>\n",
       "      <td>C2015BWO9N1</td>\n",
       "      <td>4</td>\n",
       "      <td>36</td>\n",
       "      <td>M</td>\n",
       "      <td>3-SocialMedia</td>\n",
       "      <td>e2</td>\n",
       "      <td>No</td>\n",
       "      <td>L1</td>\n",
       "      <td>0</td>\n",
       "    </tr>\n",
       "    <tr>\n",
       "      <th>7568</th>\n",
       "      <td>C2015FJCTJ3</td>\n",
       "      <td>3</td>\n",
       "      <td>35</td>\n",
       "      <td>F</td>\n",
       "      <td>3-SocialMedia</td>\n",
       "      <td>e1</td>\n",
       "      <td>No</td>\n",
       "      <td>L3</td>\n",
       "      <td>0</td>\n",
       "    </tr>\n",
       "  </tbody>\n",
       "</table>\n",
       "<p>7569 rows × 9 columns</p>\n",
       "</div>"
      ],
      "text/plain": [
       "              CID  workexp  age gender         Source Educ previous location  \\\n",
       "0     C2015UUGM44        3   32      F  3-SocialMedia   e2      Yes       L4   \n",
       "1     C20152LRE59        3   37      M  1-Consultancy   e1      Yes       L5   \n",
       "2     C20156UMBMO        4   36      F  3-SocialMedia   e2      Yes       L1   \n",
       "3     C2015LZSL81        3   44      M  1-Consultancy   e1      Yes       L3   \n",
       "4     C2015JFDHT1        4   43      M     2-Referral   e1      Yes       L1   \n",
       "...           ...      ...  ...    ...            ...  ...      ...      ...   \n",
       "7564  C2015XGXX2J        4   44      M     2-Referral   e1      Yes       L1   \n",
       "7565  C2015VA2O57        5   37      M     2-Referral   e2       No       L4   \n",
       "7566  C2015USNSNG        4   36      F  3-SocialMedia   e2      Yes       L7   \n",
       "7567  C2015BWO9N1        4   36      M  3-SocialMedia   e2       No       L1   \n",
       "7568  C2015FJCTJ3        3   35      F  3-SocialMedia   e1       No       L3   \n",
       "\n",
       "      Joined  \n",
       "0          0  \n",
       "1          1  \n",
       "2          0  \n",
       "3          1  \n",
       "4          1  \n",
       "...      ...  \n",
       "7564       1  \n",
       "7565       0  \n",
       "7566       1  \n",
       "7567       0  \n",
       "7568       0  \n",
       "\n",
       "[7569 rows x 9 columns]"
      ]
     },
     "execution_count": 3,
     "metadata": {},
     "output_type": "execute_result"
    }
   ],
   "source": [
    "raw_df"
   ]
  },
  {
   "cell_type": "code",
   "execution_count": 4,
   "id": "93729d3f-5762-40c2-8e61-a3fef048fa49",
   "metadata": {},
   "outputs": [
    {
     "name": "stdout",
     "output_type": "stream",
     "text": [
      "['workexp', 'age', 'gender', 'Source', 'Educ', 'previous', 'location']\n"
     ]
    }
   ],
   "source": [
    "X_features = list( raw_df.columns )\n",
    "X_features.remove( 'Joined' )\n",
    "X_features.remove( 'CID' )\n",
    "print(X_features)"
   ]
  },
  {
   "cell_type": "code",
   "execution_count": 5,
   "id": "4b970bce-fc6c-4f29-9e62-469974406030",
   "metadata": {},
   "outputs": [],
   "source": [
    "X =  raw_df[X_features]"
   ]
  },
  {
   "cell_type": "code",
   "execution_count": 6,
   "id": "25d8bc09-e7c5-4585-b732-8aa8df66f26f",
   "metadata": {},
   "outputs": [
    {
     "name": "stdout",
     "output_type": "stream",
     "text": [
      "<class 'pandas.core.series.Series'>\n",
      "RangeIndex: 7569 entries, 0 to 7568\n",
      "Series name: Joined\n",
      "Non-Null Count  Dtype   \n",
      "--------------  -----   \n",
      "7569 non-null   category\n",
      "dtypes: category(1)\n",
      "memory usage: 7.6 KB\n",
      "None\n"
     ]
    }
   ],
   "source": [
    "Y = raw_df.Joined.astype('category')\n",
    "print(Y.info())"
   ]
  },
  {
   "cell_type": "code",
   "execution_count": 7,
   "id": "5e2cef17-5d4e-45cd-bb7f-426df0a9b74a",
   "metadata": {},
   "outputs": [
    {
     "name": "stdout",
     "output_type": "stream",
     "text": [
      "<class 'pandas.core.series.Series'>\n",
      "Index: 5298 entries, 1889 to 7002\n",
      "Series name: Joined\n",
      "Non-Null Count  Dtype   \n",
      "--------------  -----   \n",
      "5298 non-null   category\n",
      "dtypes: category(1)\n",
      "memory usage: 46.7 KB\n",
      "None\n"
     ]
    }
   ],
   "source": [
    "from sklearn.model_selection import train_test_split\n",
    "X_train, X_test, y_train, y_test = train_test_split(X,\n",
    "Y,\n",
    "test_size = 0.3,\n",
    "random_state = 500)\n",
    "print(y_train.info())"
   ]
  },
  {
   "cell_type": "code",
   "execution_count": 8,
   "id": "eba75681-f251-4949-8e17-e1a4d0b4d314",
   "metadata": {},
   "outputs": [],
   "source": [
    "categorical_columns = ['gender','Source','Educ','previous','location']\n",
    "X_train_encoded = pd.get_dummies(X_train, columns=categorical_columns,drop_first = True,dtype=int )\n",
    "X_test_encoded = pd.get_dummies(X_test, columns=categorical_columns,drop_first = True ,dtype=int)"
   ]
  },
  {
   "cell_type": "code",
   "execution_count": 9,
   "id": "39d657cf-1913-4bff-9f91-5ed0c8cf1fa9",
   "metadata": {},
   "outputs": [],
   "source": [
    "from sklearn.preprocessing import MinMaxScaler\n",
    "continuous_columns= ['workexp','age']\n",
    "scaler_min_max = MinMaxScaler()\n",
    "X_train_encoded[continuous_columns] = scaler_min_max.fit_transform(X_train_encoded[continuous_columns])\n",
    "X_test_encoded[continuous_columns] = scaler_min_max.fit_transform(X_test_encoded[continuous_columns])"
   ]
  },
  {
   "cell_type": "code",
   "execution_count": 10,
   "id": "86994ff5-28ee-4ba0-9e5f-e739d8aacc96",
   "metadata": {},
   "outputs": [
    {
     "name": "stdout",
     "output_type": "stream",
     "text": [
      "<class 'pandas.core.frame.DataFrame'>\n",
      "Index: 5298 entries, 1889 to 7002\n",
      "Data columns (total 12 columns):\n",
      " #   Column                Non-Null Count  Dtype  \n",
      "---  ------                --------------  -----  \n",
      " 0   workexp               5298 non-null   float64\n",
      " 1   age                   5298 non-null   float64\n",
      " 2   gender_M              5298 non-null   int32  \n",
      " 3   Source_2-Referral     5298 non-null   int32  \n",
      " 4   Source_3-SocialMedia  5298 non-null   int32  \n",
      " 5   Educ_e2               5298 non-null   int32  \n",
      " 6   previous_Yes          5298 non-null   int32  \n",
      " 7   location_L2           5298 non-null   int32  \n",
      " 8   location_L3           5298 non-null   int32  \n",
      " 9   location_L4           5298 non-null   int32  \n",
      " 10  location_L5           5298 non-null   int32  \n",
      " 11  location_L7           5298 non-null   int32  \n",
      "dtypes: float64(2), int32(10)\n",
      "memory usage: 331.1 KB\n"
     ]
    }
   ],
   "source": [
    "X_train_encoded.info()"
   ]
  },
  {
   "cell_type": "code",
   "execution_count": 11,
   "id": "4c9a02aa-f17c-4b1d-a91c-4380cb79a436",
   "metadata": {},
   "outputs": [
    {
     "data": {
      "text/html": [
       "<div>\n",
       "<style scoped>\n",
       "    .dataframe tbody tr th:only-of-type {\n",
       "        vertical-align: middle;\n",
       "    }\n",
       "\n",
       "    .dataframe tbody tr th {\n",
       "        vertical-align: top;\n",
       "    }\n",
       "\n",
       "    .dataframe thead th {\n",
       "        text-align: right;\n",
       "    }\n",
       "</style>\n",
       "<table border=\"1\" class=\"dataframe\">\n",
       "  <thead>\n",
       "    <tr style=\"text-align: right;\">\n",
       "      <th></th>\n",
       "      <th>workexp</th>\n",
       "      <th>age</th>\n",
       "      <th>gender_M</th>\n",
       "      <th>Source_2-Referral</th>\n",
       "      <th>Source_3-SocialMedia</th>\n",
       "      <th>Educ_e2</th>\n",
       "      <th>previous_Yes</th>\n",
       "      <th>location_L2</th>\n",
       "      <th>location_L3</th>\n",
       "      <th>location_L4</th>\n",
       "      <th>location_L5</th>\n",
       "      <th>location_L7</th>\n",
       "    </tr>\n",
       "  </thead>\n",
       "  <tbody>\n",
       "    <tr>\n",
       "      <th>1889</th>\n",
       "      <td>0.666667</td>\n",
       "      <td>0.666667</td>\n",
       "      <td>1</td>\n",
       "      <td>0</td>\n",
       "      <td>1</td>\n",
       "      <td>1</td>\n",
       "      <td>1</td>\n",
       "      <td>1</td>\n",
       "      <td>0</td>\n",
       "      <td>0</td>\n",
       "      <td>0</td>\n",
       "      <td>0</td>\n",
       "    </tr>\n",
       "    <tr>\n",
       "      <th>1131</th>\n",
       "      <td>0.666667</td>\n",
       "      <td>0.555556</td>\n",
       "      <td>0</td>\n",
       "      <td>0</td>\n",
       "      <td>1</td>\n",
       "      <td>1</td>\n",
       "      <td>1</td>\n",
       "      <td>0</td>\n",
       "      <td>1</td>\n",
       "      <td>0</td>\n",
       "      <td>0</td>\n",
       "      <td>0</td>\n",
       "    </tr>\n",
       "    <tr>\n",
       "      <th>5819</th>\n",
       "      <td>0.666667</td>\n",
       "      <td>0.666667</td>\n",
       "      <td>1</td>\n",
       "      <td>0</td>\n",
       "      <td>0</td>\n",
       "      <td>1</td>\n",
       "      <td>1</td>\n",
       "      <td>1</td>\n",
       "      <td>0</td>\n",
       "      <td>0</td>\n",
       "      <td>0</td>\n",
       "      <td>0</td>\n",
       "    </tr>\n",
       "    <tr>\n",
       "      <th>5431</th>\n",
       "      <td>0.333333</td>\n",
       "      <td>0.500000</td>\n",
       "      <td>1</td>\n",
       "      <td>0</td>\n",
       "      <td>0</td>\n",
       "      <td>1</td>\n",
       "      <td>1</td>\n",
       "      <td>0</td>\n",
       "      <td>0</td>\n",
       "      <td>0</td>\n",
       "      <td>1</td>\n",
       "      <td>0</td>\n",
       "    </tr>\n",
       "    <tr>\n",
       "      <th>6647</th>\n",
       "      <td>0.666667</td>\n",
       "      <td>1.000000</td>\n",
       "      <td>1</td>\n",
       "      <td>1</td>\n",
       "      <td>0</td>\n",
       "      <td>0</td>\n",
       "      <td>1</td>\n",
       "      <td>0</td>\n",
       "      <td>1</td>\n",
       "      <td>0</td>\n",
       "      <td>0</td>\n",
       "      <td>0</td>\n",
       "    </tr>\n",
       "  </tbody>\n",
       "</table>\n",
       "</div>"
      ],
      "text/plain": [
       "       workexp       age  gender_M  Source_2-Referral  Source_3-SocialMedia  \\\n",
       "1889  0.666667  0.666667         1                  0                     1   \n",
       "1131  0.666667  0.555556         0                  0                     1   \n",
       "5819  0.666667  0.666667         1                  0                     0   \n",
       "5431  0.333333  0.500000         1                  0                     0   \n",
       "6647  0.666667  1.000000         1                  1                     0   \n",
       "\n",
       "      Educ_e2  previous_Yes  location_L2  location_L3  location_L4  \\\n",
       "1889        1             1            1            0            0   \n",
       "1131        1             1            0            1            0   \n",
       "5819        1             1            1            0            0   \n",
       "5431        1             1            0            0            0   \n",
       "6647        0             1            0            1            0   \n",
       "\n",
       "      location_L5  location_L7  \n",
       "1889            0            0  \n",
       "1131            0            0  \n",
       "5819            0            0  \n",
       "5431            1            0  \n",
       "6647            0            0  "
      ]
     },
     "execution_count": 11,
     "metadata": {},
     "output_type": "execute_result"
    }
   ],
   "source": [
    "X_train_encoded.head()"
   ]
  },
  {
   "cell_type": "code",
   "execution_count": 12,
   "id": "3153bfe9-8437-4da4-8f2a-f1486160deb4",
   "metadata": {},
   "outputs": [
    {
     "data": {
      "image/png": "[encoded data removed]",
      "text/plain": [
       "<Figure size 800x600 with 2 Axes>"
      ]
     },
     "metadata": {},
     "output_type": "display_data"
    }
   ],
   "source": [
    "import matplotlib.pyplot as plt\n",
    "import seaborn as sns\n",
    "corr_matrix = X_train_encoded.corr(numeric_only=True)\n",
    "plt.figure(figsize=(8, 6))\n",
    "sns.heatmap(corr_matrix.round(2), annot=True, cmap='coolwarm', linewidths=0.5)\n",
    "plt.title('Correlation Heatmap')\n",
    "plt.show()"
   ]
  },
  {
   "cell_type": "code",
   "execution_count": 13,
   "id": "55d0b8d1-450a-4af8-bd86-f8f0f357631d",
   "metadata": {},
   "outputs": [
    {
     "data": {
      "text/html": [
       "<div>\n",
       "<style scoped>\n",
       "    .dataframe tbody tr th:only-of-type {\n",
       "        vertical-align: middle;\n",
       "    }\n",
       "\n",
       "    .dataframe tbody tr th {\n",
       "        vertical-align: top;\n",
       "    }\n",
       "\n",
       "    .dataframe thead th {\n",
       "        text-align: right;\n",
       "    }\n",
       "</style>\n",
       "<table border=\"1\" class=\"dataframe\">\n",
       "  <thead>\n",
       "    <tr style=\"text-align: right;\">\n",
       "      <th></th>\n",
       "      <th>workexp</th>\n",
       "      <th>age</th>\n",
       "      <th>gender_M</th>\n",
       "      <th>Source_2-Referral</th>\n",
       "      <th>Source_3-SocialMedia</th>\n",
       "      <th>Educ_e2</th>\n",
       "      <th>previous_Yes</th>\n",
       "      <th>location_L2</th>\n",
       "      <th>location_L3</th>\n",
       "      <th>location_L4</th>\n",
       "      <th>location_L5</th>\n",
       "      <th>location_L7</th>\n",
       "    </tr>\n",
       "  </thead>\n",
       "  <tbody>\n",
       "    <tr>\n",
       "      <th>workexp</th>\n",
       "      <td>1.000000</td>\n",
       "      <td>0.000867</td>\n",
       "      <td>-0.011264</td>\n",
       "      <td>0.004432</td>\n",
       "      <td>0.007896</td>\n",
       "      <td>-0.012334</td>\n",
       "      <td>0.025400</td>\n",
       "      <td>0.021956</td>\n",
       "      <td>-0.004062</td>\n",
       "      <td>-0.008893</td>\n",
       "      <td>-0.031288</td>\n",
       "      <td>0.000376</td>\n",
       "    </tr>\n",
       "    <tr>\n",
       "      <th>age</th>\n",
       "      <td>0.000867</td>\n",
       "      <td>1.000000</td>\n",
       "      <td>0.004479</td>\n",
       "      <td>0.053601</td>\n",
       "      <td>-0.061811</td>\n",
       "      <td>-0.059932</td>\n",
       "      <td>-0.007156</td>\n",
       "      <td>-0.268993</td>\n",
       "      <td>0.133609</td>\n",
       "      <td>-0.101654</td>\n",
       "      <td>-0.048709</td>\n",
       "      <td>0.206405</td>\n",
       "    </tr>\n",
       "    <tr>\n",
       "      <th>gender_M</th>\n",
       "      <td>-0.011264</td>\n",
       "      <td>0.004479</td>\n",
       "      <td>1.000000</td>\n",
       "      <td>0.013644</td>\n",
       "      <td>-0.016401</td>\n",
       "      <td>-0.003616</td>\n",
       "      <td>-0.001057</td>\n",
       "      <td>-0.013379</td>\n",
       "      <td>0.093323</td>\n",
       "      <td>0.002452</td>\n",
       "      <td>0.093104</td>\n",
       "      <td>-0.134907</td>\n",
       "    </tr>\n",
       "    <tr>\n",
       "      <th>Source_2-Referral</th>\n",
       "      <td>0.004432</td>\n",
       "      <td>0.053601</td>\n",
       "      <td>0.013644</td>\n",
       "      <td>1.000000</td>\n",
       "      <td>-0.559988</td>\n",
       "      <td>-0.012482</td>\n",
       "      <td>-0.009683</td>\n",
       "      <td>-0.032638</td>\n",
       "      <td>0.026610</td>\n",
       "      <td>-0.031261</td>\n",
       "      <td>-0.025088</td>\n",
       "      <td>0.044694</td>\n",
       "    </tr>\n",
       "    <tr>\n",
       "      <th>Source_3-SocialMedia</th>\n",
       "      <td>0.007896</td>\n",
       "      <td>-0.061811</td>\n",
       "      <td>-0.016401</td>\n",
       "      <td>-0.559988</td>\n",
       "      <td>1.000000</td>\n",
       "      <td>-0.006427</td>\n",
       "      <td>0.001883</td>\n",
       "      <td>0.020457</td>\n",
       "      <td>-0.025447</td>\n",
       "      <td>0.037408</td>\n",
       "      <td>0.007572</td>\n",
       "      <td>-0.026514</td>\n",
       "    </tr>\n",
       "    <tr>\n",
       "      <th>Educ_e2</th>\n",
       "      <td>-0.012334</td>\n",
       "      <td>-0.059932</td>\n",
       "      <td>-0.003616</td>\n",
       "      <td>-0.012482</td>\n",
       "      <td>-0.006427</td>\n",
       "      <td>1.000000</td>\n",
       "      <td>-0.025471</td>\n",
       "      <td>0.037056</td>\n",
       "      <td>-0.008124</td>\n",
       "      <td>0.011010</td>\n",
       "      <td>0.014219</td>\n",
       "      <td>-0.044341</td>\n",
       "    </tr>\n",
       "    <tr>\n",
       "      <th>previous_Yes</th>\n",
       "      <td>0.025400</td>\n",
       "      <td>-0.007156</td>\n",
       "      <td>-0.001057</td>\n",
       "      <td>-0.009683</td>\n",
       "      <td>0.001883</td>\n",
       "      <td>-0.025471</td>\n",
       "      <td>1.000000</td>\n",
       "      <td>0.029689</td>\n",
       "      <td>-0.015918</td>\n",
       "      <td>-0.010414</td>\n",
       "      <td>0.000266</td>\n",
       "      <td>0.006095</td>\n",
       "    </tr>\n",
       "    <tr>\n",
       "      <th>location_L2</th>\n",
       "      <td>0.021956</td>\n",
       "      <td>-0.268993</td>\n",
       "      <td>-0.013379</td>\n",
       "      <td>-0.032638</td>\n",
       "      <td>0.020457</td>\n",
       "      <td>0.037056</td>\n",
       "      <td>0.029689</td>\n",
       "      <td>1.000000</td>\n",
       "      <td>-0.184386</td>\n",
       "      <td>-0.121030</td>\n",
       "      <td>-0.191456</td>\n",
       "      <td>-0.122791</td>\n",
       "    </tr>\n",
       "    <tr>\n",
       "      <th>location_L3</th>\n",
       "      <td>-0.004062</td>\n",
       "      <td>0.133609</td>\n",
       "      <td>0.093323</td>\n",
       "      <td>0.026610</td>\n",
       "      <td>-0.025447</td>\n",
       "      <td>-0.008124</td>\n",
       "      <td>-0.015918</td>\n",
       "      <td>-0.184386</td>\n",
       "      <td>1.000000</td>\n",
       "      <td>-0.185837</td>\n",
       "      <td>-0.293975</td>\n",
       "      <td>-0.188541</td>\n",
       "    </tr>\n",
       "    <tr>\n",
       "      <th>location_L4</th>\n",
       "      <td>-0.008893</td>\n",
       "      <td>-0.101654</td>\n",
       "      <td>0.002452</td>\n",
       "      <td>-0.031261</td>\n",
       "      <td>0.037408</td>\n",
       "      <td>0.011010</td>\n",
       "      <td>-0.010414</td>\n",
       "      <td>-0.121030</td>\n",
       "      <td>-0.185837</td>\n",
       "      <td>1.000000</td>\n",
       "      <td>-0.192963</td>\n",
       "      <td>-0.123757</td>\n",
       "    </tr>\n",
       "    <tr>\n",
       "      <th>location_L5</th>\n",
       "      <td>-0.031288</td>\n",
       "      <td>-0.048709</td>\n",
       "      <td>0.093104</td>\n",
       "      <td>-0.025088</td>\n",
       "      <td>0.007572</td>\n",
       "      <td>0.014219</td>\n",
       "      <td>0.000266</td>\n",
       "      <td>-0.191456</td>\n",
       "      <td>-0.293975</td>\n",
       "      <td>-0.192963</td>\n",
       "      <td>1.000000</td>\n",
       "      <td>-0.195771</td>\n",
       "    </tr>\n",
       "    <tr>\n",
       "      <th>location_L7</th>\n",
       "      <td>0.000376</td>\n",
       "      <td>0.206405</td>\n",
       "      <td>-0.134907</td>\n",
       "      <td>0.044694</td>\n",
       "      <td>-0.026514</td>\n",
       "      <td>-0.044341</td>\n",
       "      <td>0.006095</td>\n",
       "      <td>-0.122791</td>\n",
       "      <td>-0.188541</td>\n",
       "      <td>-0.123757</td>\n",
       "      <td>-0.195771</td>\n",
       "      <td>1.000000</td>\n",
       "    </tr>\n",
       "  </tbody>\n",
       "</table>\n",
       "</div>"
      ],
      "text/plain": [
       "                       workexp       age  gender_M  Source_2-Referral  \\\n",
       "workexp               1.000000  0.000867 -0.011264           0.004432   \n",
       "age                   0.000867  1.000000  0.004479           0.053601   \n",
       "gender_M             -0.011264  0.004479  1.000000           0.013644   \n",
       "Source_2-Referral     0.004432  0.053601  0.013644           1.000000   \n",
       "Source_3-SocialMedia  0.007896 -0.061811 -0.016401          -0.559988   \n",
       "Educ_e2              -0.012334 -0.059932 -0.003616          -0.012482   \n",
       "previous_Yes          0.025400 -0.007156 -0.001057          -0.009683   \n",
       "location_L2           0.021956 -0.268993 -0.013379          -0.032638   \n",
       "location_L3          -0.004062  0.133609  0.093323           0.026610   \n",
       "location_L4          -0.008893 -0.101654  0.002452          -0.031261   \n",
       "location_L5          -0.031288 -0.048709  0.093104          -0.025088   \n",
       "location_L7           0.000376  0.206405 -0.134907           0.044694   \n",
       "\n",
       "                      Source_3-SocialMedia   Educ_e2  previous_Yes  \\\n",
       "workexp                           0.007896 -0.012334      0.025400   \n",
       "age                              -0.061811 -0.059932     -0.007156   \n",
       "gender_M                         -0.016401 -0.003616     -0.001057   \n",
       "Source_2-Referral                -0.559988 -0.012482     -0.009683   \n",
       "Source_3-SocialMedia              1.000000 -0.006427      0.001883   \n",
       "Educ_e2                          -0.006427  1.000000     -0.025471   \n",
       "previous_Yes                      0.001883 -0.025471      1.000000   \n",
       "location_L2                       0.020457  0.037056      0.029689   \n",
       "location_L3                      -0.025447 -0.008124     -0.015918   \n",
       "location_L4                       0.037408  0.011010     -0.010414   \n",
       "location_L5                       0.007572  0.014219      0.000266   \n",
       "location_L7                      -0.026514 -0.044341      0.006095   \n",
       "\n",
       "                      location_L2  location_L3  location_L4  location_L5  \\\n",
       "workexp                  0.021956    -0.004062    -0.008893    -0.031288   \n",
       "age                     -0.268993     0.133609    -0.101654    -0.048709   \n",
       "gender_M                -0.013379     0.093323     0.002452     0.093104   \n",
       "Source_2-Referral       -0.032638     0.026610    -0.031261    -0.025088   \n",
       "Source_3-SocialMedia     0.020457    -0.025447     0.037408     0.007572   \n",
       "Educ_e2                  0.037056    -0.008124     0.011010     0.014219   \n",
       "previous_Yes             0.029689    -0.015918    -0.010414     0.000266   \n",
       "location_L2              1.000000    -0.184386    -0.121030    -0.191456   \n",
       "location_L3             -0.184386     1.000000    -0.185837    -0.293975   \n",
       "location_L4             -0.121030    -0.185837     1.000000    -0.192963   \n",
       "location_L5             -0.191456    -0.293975    -0.192963     1.000000   \n",
       "location_L7             -0.122791    -0.188541    -0.123757    -0.195771   \n",
       "\n",
       "                      location_L7  \n",
       "workexp                  0.000376  \n",
       "age                      0.206405  \n",
       "gender_M                -0.134907  \n",
       "Source_2-Referral        0.044694  \n",
       "Source_3-SocialMedia    -0.026514  \n",
       "Educ_e2                 -0.044341  \n",
       "previous_Yes             0.006095  \n",
       "location_L2             -0.122791  \n",
       "location_L3             -0.188541  \n",
       "location_L4             -0.123757  \n",
       "location_L5             -0.195771  \n",
       "location_L7              1.000000  "
      ]
     },
     "execution_count": 13,
     "metadata": {},
     "output_type": "execute_result"
    }
   ],
   "source": [
    "corr_matrix"
   ]
  },
  {
   "cell_type": "code",
   "execution_count": 14,
   "id": "7357a17b-4a69-4d9b-9f33-f315f62a921b",
   "metadata": {},
   "outputs": [],
   "source": [
    "# No of hidden nodes = 2/3*(No of i/p nodes + No of o/p nodes) = 2/3*(12+2) = 9.33 = 9."
   ]
  },
  {
   "cell_type": "code",
   "execution_count": 15,
   "id": "10164090-3e94-4697-b83c-25c97e141bee",
   "metadata": {},
   "outputs": [],
   "source": [
    "from sklearn.neural_network import MLPClassifier\n",
    "nn_model = MLPClassifier(random_state=42, verbose = True,max_iter = 1500, hidden_layer_sizes= (9,),early_stopping = True,learning_rate_init=0.2)\n",
    "#learning_rate_init has to be tweaked for better"
   ]
  },
  {
   "cell_type": "code",
   "execution_count": 16,
   "id": "7095c755-e931-45cc-8e91-6b682799d20d",
   "metadata": {},
   "outputs": [
    {
     "name": "stdout",
     "output_type": "stream",
     "text": [
      "Hyperparameters of the MLPClassifier:\n",
      " {'activation': 'relu', 'alpha': 0.0001, 'batch_size': 'auto', 'beta_1': 0.9, 'beta_2': 0.999, 'early_stopping': True, 'epsilon': 1e-08, 'hidden_layer_sizes': (9,), 'learning_rate': 'constant', 'learning_rate_init': 0.2, 'max_fun': 15000, 'max_iter': 1500, 'momentum': 0.9, 'n_iter_no_change': 10, 'nesterovs_momentum': True, 'power_t': 0.5, 'random_state': 42, 'shuffle': True, 'solver': 'adam', 'tol': 0.0001, 'validation_fraction': 0.1, 'verbose': True, 'warm_start': False}\n"
     ]
    }
   ],
   "source": [
    "print(\"Hyperparameters of the MLPClassifier:\\n\",nn_model.get_params())"
   ]
  },
  {
   "cell_type": "code",
   "execution_count": 17,
   "id": "b2e6bec8-c285-42a8-9ef4-504a5de059bc",
   "metadata": {},
   "outputs": [
    {
     "name": "stdout",
     "output_type": "stream",
     "text": [
      "Iteration 1, loss = 0.45784224\n",
      "Validation score: 0.803774\n",
      "Iteration 2, loss = 0.38935619\n",
      "Validation score: 0.784906\n",
      "Iteration 3, loss = 0.33394871\n",
      "Validation score: 0.798113\n",
      "Iteration 4, loss = 0.31676650\n",
      "Validation score: 0.811321\n",
      "Iteration 5, loss = 0.31937584\n",
      "Validation score: 0.816981\n",
      "Iteration 6, loss = 0.31508116\n",
      "Validation score: 0.820755\n",
      "Iteration 7, loss = 0.31755819\n",
      "Validation score: 0.796226\n",
      "Iteration 8, loss = 0.31277409\n",
      "Validation score: 0.809434\n",
      "Iteration 9, loss = 0.30601658\n",
      "Validation score: 0.815094\n",
      "Iteration 10, loss = 0.30862077\n",
      "Validation score: 0.816981\n",
      "Iteration 11, loss = 0.31264405\n",
      "Validation score: 0.794340\n",
      "Iteration 12, loss = 0.31273402\n",
      "Validation score: 0.822642\n",
      "Iteration 13, loss = 0.30467640\n",
      "Validation score: 0.820755\n",
      "Iteration 14, loss = 0.29913670\n",
      "Validation score: 0.835849\n",
      "Iteration 15, loss = 0.29075401\n",
      "Validation score: 0.811321\n",
      "Iteration 16, loss = 0.28997510\n",
      "Validation score: 0.837736\n",
      "Iteration 17, loss = 0.29255480\n",
      "Validation score: 0.805660\n",
      "Iteration 18, loss = 0.29577646\n",
      "Validation score: 0.809434\n",
      "Iteration 19, loss = 0.29661249\n",
      "Validation score: 0.826415\n",
      "Iteration 20, loss = 0.28988336\n",
      "Validation score: 0.811321\n",
      "Iteration 21, loss = 0.29283152\n",
      "Validation score: 0.760377\n",
      "Iteration 22, loss = 0.29147476\n",
      "Validation score: 0.756604\n",
      "Iteration 23, loss = 0.29749018\n",
      "Validation score: 0.820755\n",
      "Iteration 24, loss = 0.29318551\n",
      "Validation score: 0.835849\n",
      "Iteration 25, loss = 0.28758310\n",
      "Validation score: 0.833962\n",
      "Iteration 26, loss = 0.30288818\n",
      "Validation score: 0.824528\n",
      "Iteration 27, loss = 0.28970978\n",
      "Validation score: 0.835849\n",
      "Validation score did not improve more than tol=0.000100 for 10 consecutive epochs. Stopping.\n"
     ]
    },
    {
     "data": {
      "text/html": [
       "<style>#sk-container-id-1 {color: black;background-color: white;}#sk-container-id-1 pre{padding: 0;}#sk-container-id-1 div.sk-toggleable {background-color: white;}#sk-container-id-1 label.sk-toggleable__label {cursor: pointer;display: block;width: 100%;margin-bottom: 0;padding: 0.3em;box-sizing: border-box;text-align: center;}#sk-container-id-1 label.sk-toggleable__label-arrow:before {content: \"▸\";float: left;margin-right: 0.25em;color: #696969;}#sk-container-id-1 label.sk-toggleable__label-arrow:hover:before {color: black;}#sk-container-id-1 div.sk-estimator:hover label.sk-toggleable__label-arrow:before {color: black;}#sk-container-id-1 div.sk-toggleable__content {max-height: 0;max-width: 0;overflow: hidden;text-align: left;background-color: #f0f8ff;}#sk-container-id-1 div.sk-toggleable__content pre {margin: 0.2em;color: black;border-radius: 0.25em;background-color: #f0f8ff;}#sk-container-id-1 input.sk-toggleable__control:checked~div.sk-toggleable__content {max-height: 200px;max-width: 100%;overflow: auto;}#sk-container-id-1 input.sk-toggleable__control:checked~label.sk-toggleable__label-arrow:before {content: \"▾\";}#sk-container-id-1 div.sk-estimator input.sk-toggleable__control:checked~label.sk-toggleable__label {background-color: #d4ebff;}#sk-container-id-1 div.sk-label input.sk-toggleable__control:checked~label.sk-toggleable__label {background-color: #d4ebff;}#sk-container-id-1 input.sk-hidden--visually {border: 0;clip: rect(1px 1px 1px 1px);clip: rect(1px, 1px, 1px, 1px);height: 1px;margin: -1px;overflow: hidden;padding: 0;position: absolute;width: 1px;}#sk-container-id-1 div.sk-estimator {font-family: monospace;background-color: #f0f8ff;border: 1px dotted black;border-radius: 0.25em;box-sizing: border-box;margin-bottom: 0.5em;}#sk-container-id-1 div.sk-estimator:hover {background-color: #d4ebff;}#sk-container-id-1 div.sk-parallel-item::after {content: \"\";width: 100%;border-bottom: 1px solid gray;flex-grow: 1;}#sk-container-id-1 div.sk-label:hover label.sk-toggleable__label {background-color: #d4ebff;}#sk-container-id-1 div.sk-serial::before {content: \"\";position: absolute;border-left: 1px solid gray;box-sizing: border-box;top: 0;bottom: 0;left: 50%;z-index: 0;}#sk-container-id-1 div.sk-serial {display: flex;flex-direction: column;align-items: center;background-color: white;padding-right: 0.2em;padding-left: 0.2em;position: relative;}#sk-container-id-1 div.sk-item {position: relative;z-index: 1;}#sk-container-id-1 div.sk-parallel {display: flex;align-items: stretch;justify-content: center;background-color: white;position: relative;}#sk-container-id-1 div.sk-item::before, #sk-container-id-1 div.sk-parallel-item::before {content: \"\";position: absolute;border-left: 1px solid gray;box-sizing: border-box;top: 0;bottom: 0;left: 50%;z-index: -1;}#sk-container-id-1 div.sk-parallel-item {display: flex;flex-direction: column;z-index: 1;position: relative;background-color: white;}#sk-container-id-1 div.sk-parallel-item:first-child::after {align-self: flex-end;width: 50%;}#sk-container-id-1 div.sk-parallel-item:last-child::after {align-self: flex-start;width: 50%;}#sk-container-id-1 div.sk-parallel-item:only-child::after {width: 0;}#sk-container-id-1 div.sk-dashed-wrapped {border: 1px dashed gray;margin: 0 0.4em 0.5em 0.4em;box-sizing: border-box;padding-bottom: 0.4em;background-color: white;}#sk-container-id-1 div.sk-label label {font-family: monospace;font-weight: bold;display: inline-block;line-height: 1.2em;}#sk-container-id-1 div.sk-label-container {text-align: center;}#sk-container-id-1 div.sk-container {/* jupyter's `normalize.less` sets `[hidden] { display: none; }` but bootstrap.min.css set `[hidden] { display: none !important; }` so we also need the `!important` here to be able to override the default hidden behavior on the sphinx rendered scikit-learn.org. See: https://github.com/scikit-learn/scikit-learn/issues/21755 */display: inline-block !important;position: relative;}#sk-container-id-1 div.sk-text-repr-fallback {display: none;}</style><div id=\"sk-container-id-1\" class=\"sk-top-container\"><div class=\"sk-text-repr-fallback\"><pre>MLPClassifier(early_stopping=True, hidden_layer_sizes=(9,),\n",
       "              learning_rate_init=0.2, max_iter=1500, random_state=42,\n",
       "              verbose=True)</pre><b>In a Jupyter environment, please rerun this cell to show the HTML representation or trust the notebook. <br />On GitHub, the HTML representation is unable to render, please try loading this page with nbviewer.org.</b></div><div class=\"sk-container\" hidden><div class=\"sk-item\"><div class=\"sk-estimator sk-toggleable\"><input class=\"sk-toggleable__control sk-hidden--visually\" id=\"sk-estimator-id-1\" type=\"checkbox\" checked><label for=\"sk-estimator-id-1\" class=\"sk-toggleable__label sk-toggleable__label-arrow\">MLPClassifier</label><div class=\"sk-toggleable__content\"><pre>MLPClassifier(early_stopping=True, hidden_layer_sizes=(9,),\n",
       "              learning_rate_init=0.2, max_iter=1500, random_state=42,\n",
       "              verbose=True)</pre></div></div></div></div></div>"
      ],
      "text/plain": [
       "MLPClassifier(early_stopping=True, hidden_layer_sizes=(9,),\n",
       "              learning_rate_init=0.2, max_iter=1500, random_state=42,\n",
       "              verbose=True)"
      ]
     },
     "execution_count": 17,
     "metadata": {},
     "output_type": "execute_result"
    }
   ],
   "source": [
    "nn_model.fit(X_train_encoded, y_train)"
   ]
  },
  {
   "cell_type": "code",
   "execution_count": 18,
   "id": "bff9a685-9ec2-4a5c-9c0d-d14139d1aef5",
   "metadata": {},
   "outputs": [
    {
     "data": {
      "text/plain": [
       "array([4.41381367e-01, 4.13482764e-01, 1.67864371e-04, ...,\n",
       "       4.41381367e-01, 7.44657310e-02, 2.43011859e-04])"
      ]
     },
     "execution_count": 18,
     "metadata": {},
     "output_type": "execute_result"
    }
   ],
   "source": [
    "y_prob=nn_model.predict_proba(X_test_encoded)[:,1]\n",
    "y_prob"
   ]
  },
  {
   "cell_type": "code",
   "execution_count": 19,
   "id": "c9c3d096-268c-43bd-ae9c-86819d2aa776",
   "metadata": {},
   "outputs": [
    {
     "name": "stdout",
     "output_type": "stream",
     "text": [
      "     actual_Y  predicted_prob\n",
      "6161        1        0.441381\n",
      "1012        0        0.413483\n",
      "6625        0        0.000168\n",
      "4067        0        0.145442\n",
      "5803        1        0.959075\n"
     ]
    }
   ],
   "source": [
    "y_pred_df = pd.DataFrame( { \"actual_Y\": y_test,\n",
    "\"predicted_prob\":y_prob})\n",
    "print(y_pred_df.head())"
   ]
  },
  {
   "cell_type": "code",
   "execution_count": 20,
   "id": "21372cc9-0c90-4307-bed8-b9d910a5a91d",
   "metadata": {},
   "outputs": [
    {
     "name": "stdout",
     "output_type": "stream",
     "text": [
      "     actual_Y  predicted_prob  predicted_Y\n",
      "6161        1        0.441381            0\n",
      "1012        0        0.413483            0\n",
      "6625        0        0.000168            0\n",
      "4067        0        0.145442            0\n",
      "5803        1        0.959075            1\n"
     ]
    }
   ],
   "source": [
    "y_pred_df['predicted_Y'] = y_pred_df.predicted_prob.map(\n",
    "lambda x: 1 if x >= 0.5 else 0)\n",
    "print(y_pred_df.head())"
   ]
  },
  {
   "cell_type": "code",
   "execution_count": 21,
   "id": "bc9db2d9-d587-4923-bf1c-9d3dc558d4c9",
   "metadata": {},
   "outputs": [
    {
     "name": "stdout",
     "output_type": "stream",
     "text": [
      "[[1197   32]\n",
      " [ 297  745]]\n"
     ]
    }
   ],
   "source": [
    "from sklearn.metrics import confusion_matrix\n",
    "# Generating the confusion matrix using the DataFrame columns\n",
    "cm = confusion_matrix(y_pred_df['actual_Y'],y_pred_df['predicted_Y'])\n",
    "print(cm)"
   ]
  },
  {
   "cell_type": "code",
   "execution_count": 22,
   "id": "0cb27c40-7a5b-4482-a98f-e5d5a951689d",
   "metadata": {},
   "outputs": [
    {
     "data": {
      "image/png": "[encoded data removed]",
      "text/plain": [
       "<Figure size 300x300 with 1 Axes>"
      ]
     },
     "metadata": {},
     "output_type": "display_data"
    }
   ],
   "source": [
    "# Create a heatmap for the confusion matrix\n",
    "plt.figure(figsize=(3,3))\n",
    "sns.heatmap(cm, annot=True, fmt='d', cmap='Blues', cbar=False, \n",
    "            xticklabels=['Predicted 0', 'Predicted 1'], \n",
    "            yticklabels=['Actual 0', 'Actual 1'])\n",
    "plt.title('Confusion Matrix')\n",
    "plt.ylabel('Actual')\n",
    "plt.xlabel('Predicted')\n",
    "plt.show()"
   ]
  },
  {
   "cell_type": "code",
   "execution_count": 23,
   "id": "28a325af-4fa9-410b-ba7c-b23a8d757dd0",
   "metadata": {},
   "outputs": [
    {
     "name": "stdout",
     "output_type": "stream",
     "text": [
      "Sensitivity (Recall): 0.71\n",
      "Accuracy: 0.86\n"
     ]
    }
   ],
   "source": [
    "from sklearn.metrics import  accuracy_score, recall_score, precision_score\n",
    "sensitivity = recall_score(y_pred_df['actual_Y'], y_pred_df['predicted_Y'])\n",
    "accuracy = accuracy_score(y_pred_df['actual_Y'], y_pred_df['predicted_Y'])\n",
    "\n",
    "# Print metrics\n",
    "print(f\"Sensitivity (Recall): {sensitivity:.2f}\")\n",
    "#print(f\"Specificity: {specificity:.2f}\")\n",
    "print(f\"Accuracy: {accuracy:.2f}\")"
   ]
  },
  {
   "cell_type": "code",
   "execution_count": 24,
   "id": "09aa7e6b-ca61-491f-a9dd-3caf6ab2f173",
   "metadata": {},
   "outputs": [
    {
     "name": "stdout",
     "output_type": "stream",
     "text": [
      "\n",
      "Classification Report:\n",
      "              precision    recall  f1-score   support\n",
      "\n",
      "           0       0.80      0.97      0.88      1229\n",
      "           1       0.96      0.71      0.82      1042\n",
      "\n",
      "    accuracy                           0.86      2271\n",
      "   macro avg       0.88      0.84      0.85      2271\n",
      "weighted avg       0.87      0.86      0.85      2271\n",
      "\n"
     ]
    }
   ],
   "source": [
    "from sklearn.metrics import confusion_matrix, classification_report\n",
    "print(\"\\nClassification Report:\")\n",
    "print(classification_report(y_pred_df['actual_Y'],y_pred_df['predicted_Y']))"
   ]
  },
  {
   "cell_type": "code",
   "execution_count": 25,
   "id": "a4934b0c-2f30-4172-a1f3-8ed59de4f53b",
   "metadata": {},
   "outputs": [],
   "source": [
    "#accuracy = 86%\n",
    "#sensitivity = 71%\n",
    "#specificity = 97%"
   ]
  },
  {
   "cell_type": "code",
   "execution_count": 51,
   "id": "f44ced60-4677-4327-abe9-3852a83e6bbc",
   "metadata": {},
   "outputs": [],
   "source": [
    "# The learning rate in a neural network controls how much the model's weights are adjusted with respect to the gradient during each iteration. \n",
    "# High learning rate:\n",
    "\n",
    "# Accuracy: Likely to decrease due to overshooting optimal weights.\n",
    "# Sensitivity: Might increase for one class but often at the cost of specificity.\n",
    "# Specificity: Likely to decrease, with the model missing many negative class instances.\n",
    "# Low learning rate:\n",
    "\n",
    "# Accuracy: Can eventually improve but at the cost of slower training. Too low may result in suboptimal performance.\n",
    "# Sensitivity: Likely to improve with proper convergence but may be low in the early stages.\n",
    "# Specificity: Likely to improve, but early stages may show poor performance due to underfitting."
   ]
  },
  {
   "cell_type": "code",
   "execution_count": null,
   "id": "104ac4f9-053a-4ff5-85ec-748c36e9e1ef",
   "metadata": {},
   "outputs": [],
   "source": []
  }
 ],
 "metadata": {
  "kernelspec": {
   "display_name": "Python 3 (ipykernel)",
   "language": "python",
   "name": "python3"
  },
  "language_info": {
   "codemirror_mode": {
    "name": "ipython",
    "version": 3
   },
   "file_extension": ".py",
   "mimetype": "text/x-python",
   "name": "python",
   "nbconvert_exporter": "python",
   "pygments_lexer": "ipython3",
   "version": "3.11.7"
  }
 },
 "nbformat": 4,
 "nbformat_minor": 5
}
